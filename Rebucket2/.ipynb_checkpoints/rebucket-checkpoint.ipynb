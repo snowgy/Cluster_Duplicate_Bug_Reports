{
 "cells": [
  {
   "cell_type": "code",
   "execution_count": 1,
   "metadata": {},
   "outputs": [],
   "source": [
    "import json "
   ]
  },
  {
   "cell_type": "code",
   "execution_count": 2,
   "metadata": {},
   "outputs": [],
   "source": [
    "def read_json_file(filepath):\n",
    "\twith open(filepath, 'r') as eclipse:\n",
    "\t\tload_dict = json.load(eclipse)\n",
    "\treturn load_dict"
   ]
  },
  {
   "cell_type": "code",
   "execution_count": 4,
   "metadata": {},
   "outputs": [],
   "source": [
    "filepath = \"./eclipse_old.json\"\n",
    "alltraces = read_json_file(filepath)\n"
   ]
  },
  {
   "cell_type": "code",
   "execution_count": 24,
   "metadata": {},
   "outputs": [],
   "source": [
    "allbuckets = {}\n",
    "for i in alltraces:\n",
    "    if i['duplicated_stack']=='':\n",
    "        allbuckets[i['stack_id']] = [i]\n",
    "    else:\n",
    "        if i['duplicated_stack'] in allbuckets:\n",
    "            allbuckets[i['duplicated_stack']].append(i)\n",
    "        else:\n",
    "            allbuckets[i['duplicated_stack']] = [i]"
   ]
  },
  {
   "cell_type": "code",
   "execution_count": 23,
   "metadata": {},
   "outputs": [
    {
     "name": "stdout",
     "output_type": "stream",
     "text": [
      "66\n"
     ]
    }
   ],
   "source": [
    "len(allbuckets)\n",
    "maxs=0\n",
    "for i,w in allbuckets.items():\n",
    "    if len(w)>maxs:\n",
    "        maxs = len(w)\n",
    "print (maxs)"
   ]
  },
  {
   "cell_type": "code",
   "execution_count": null,
   "metadata": {},
   "outputs": [],
   "source": [
    "class pair():\n",
    "    self.p1 = null\n",
    "    self.p2 = null\n",
    "    self.similar = False\n",
    "    self.sim = 0\n",
    "    def __init__(p1,p2):\n",
    "        self.p1 = p1\n",
    "        self.p2 = p2\n",
    "    def change(t):\n",
    "        self.similar = t\n",
    "    def set_sim(s):\n",
    "        self.sim = s\n",
    "class parameter():\n",
    "    def __init__(o,c,d,f):\n",
    "        self.o = o\n",
    "        self.c = c\n",
    "        self.d = d\n",
    "        self.f = f\n",
    "        "
   ]
  },
  {
   "cell_type": "code",
   "execution_count": null,
   "metadata": {},
   "outputs": [],
   "source": [
    "def calculate_sim(trace1, trace2, c, o):\n",
    "    pass"
   ]
  },
  {
   "cell_type": "code",
   "execution_count": null,
   "metadata": {},
   "outputs": [],
   "source": [
    "def Get_pairs():\n",
    "    pass"
   ]
  },
  {
   "cell_type": "code",
   "execution_count": 13,
   "metadata": {},
   "outputs": [
    {
     "data": {
      "text/plain": [
       "8795"
      ]
     },
     "execution_count": 13,
     "metadata": {},
     "output_type": "execute_result"
    }
   ],
   "source": [
    "def Trainning(D,C,c0,o0,d0,s1,s2,s3,dm,om,cm):\n",
    "    L = []\n",
    "    c = c0\n",
    "    while(c<cm)\n",
    "        o = o0\n",
    "        while(o<om)\n",
    "            for i in D:\n",
    "                    sim = calculate_sim(i.p1,i.p2)\n",
    "                    i.set_sim(sim)\n",
    "            d = d0\n",
    "            while(d<=dm)\n",
    "\n",
    "                for i in D:\n",
    "                    if sim > 1-d:\n",
    "                        i.change(True)\n",
    "                L = Get_pairs(D)\n",
    "                f = Get_F_measure(L,C)\n",
    "                Top_stack.add(parameter(o,c,d,1-f))\n",
    "                d = d+s1\n",
    "            o+=s2\n",
    "        c+=s3"
   ]
  }
 ],
 "metadata": {
  "kernelspec": {
   "display_name": "Python 3",
   "language": "python",
   "name": "python3"
  },
  "language_info": {
   "codemirror_mode": {
    "name": "ipython",
    "version": 3
   },
   "file_extension": ".py",
   "mimetype": "text/x-python",
   "name": "python",
   "nbconvert_exporter": "python",
   "pygments_lexer": "ipython3",
   "version": "3.6.5"
  }
 },
 "nbformat": 4,
 "nbformat_minor": 2
}
